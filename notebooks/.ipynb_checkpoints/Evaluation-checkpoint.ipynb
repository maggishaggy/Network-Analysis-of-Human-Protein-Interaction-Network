{
 "cells": [
  {
   "cell_type": "code",
   "execution_count": 2,
   "metadata": {},
   "outputs": [],
   "source": [
    "import numpy as np\n",
    "%matplotlib inline\n",
    "import pandas as pd\n",
    "import gseapy as gp\n",
    "import matplotlib.pyplot as plt\n",
    "import math\n",
    "import networkx as nx\n"
   ]
  },
  {
   "cell_type": "code",
   "execution_count": null,
   "metadata": {
    "collapsed": true
   },
   "outputs": [],
   "source": [
    "% cd .."
   ]
  },
  {
   "cell_type": "code",
   "execution_count": 24,
   "metadata": {
    "collapsed": true
   },
   "outputs": [],
   "source": [
    "from read_graph import read_graph\n",
    "from common.pipeline import Pipeline\n",
    "from common.feature_generators import *\n",
    "from validation import *"
   ]
  },
  {
   "cell_type": "code",
   "execution_count": null,
   "metadata": {
    "collapsed": true
   },
   "outputs": [],
   "source": [
    "get_cancer"
   ]
  },
  {
   "cell_type": "code",
   "execution_count": 25,
   "metadata": {},
   "outputs": [
    {
     "ename": "NameError",
     "evalue": "global name 'pandas' is not defined",
     "output_type": "error",
     "traceback": [
      "\u001b[0;31m---------------------------------------------------------------------------\u001b[0m",
      "\u001b[0;31mNameError\u001b[0m                                 Traceback (most recent call last)",
      "\u001b[0;32m<ipython-input-25-e93ee244f182>\u001b[0m in \u001b[0;36m<module>\u001b[0;34m()\u001b[0m\n\u001b[1;32m      1\u001b[0m \u001b[0mcancer\u001b[0m \u001b[0;34m=\u001b[0m \u001b[0mget_cancer\u001b[0m\u001b[0;34m(\u001b[0m\u001b[0;34m)\u001b[0m\u001b[0;34m\u001b[0m\u001b[0m\n\u001b[1;32m      2\u001b[0m \u001b[0mmendelian\u001b[0m \u001b[0;34m=\u001b[0m \u001b[0mget_mendelian\u001b[0m\u001b[0;34m(\u001b[0m\u001b[0;34m)\u001b[0m\u001b[0;34m\u001b[0m\u001b[0m\n\u001b[0;32m----> 3\u001b[0;31m \u001b[0mdrugbank_target_all\u001b[0m \u001b[0;34m=\u001b[0m \u001b[0mget_drugbank\u001b[0m\u001b[0;34m(\u001b[0m\u001b[0mmolecule_type\u001b[0m\u001b[0;34m=\u001b[0m\u001b[0;34m\"target\"\u001b[0m\u001b[0;34m,\u001b[0m \u001b[0msubset\u001b[0m\u001b[0;34m=\u001b[0m\u001b[0;34m\"all\"\u001b[0m\u001b[0;34m)\u001b[0m\u001b[0;34m\u001b[0m\u001b[0m\n\u001b[0m",
      "\u001b[0;32m/Users/cedoz/Documents/Stanford/CS224W/Network-Analysis-of-Human-Protein-Interaction-Network/validation.py\u001b[0m in \u001b[0;36mget_drugbank\u001b[0;34m(molecule_type, subset)\u001b[0m\n\u001b[1;32m     99\u001b[0m \u001b[0;34m\u001b[0m\u001b[0m\n\u001b[1;32m    100\u001b[0m     \"\"\"\n\u001b[0;32m--> 101\u001b[0;31m     \u001b[0mdata\u001b[0m \u001b[0;34m=\u001b[0m \u001b[0mpd\u001b[0m\u001b[0;34m.\u001b[0m\u001b[0mread_csv\u001b[0m\u001b[0;34m(\u001b[0m\u001b[0;34m\"validation_datasets/drugbank_%s_%s_polypeptide_ids.csv/all.csv\"\u001b[0m\u001b[0;34m%\u001b[0m\u001b[0;34m(\u001b[0m\u001b[0msubset\u001b[0m\u001b[0;34m,\u001b[0m \u001b[0mmolecule_type\u001b[0m\u001b[0;34m)\u001b[0m\u001b[0;34m)\u001b[0m\u001b[0;34m\u001b[0m\u001b[0m\n\u001b[0m\u001b[1;32m    102\u001b[0m     \u001b[0mdata\u001b[0m \u001b[0;34m=\u001b[0m \u001b[0mdata\u001b[0m\u001b[0;34m[\u001b[0m\u001b[0mdata\u001b[0m\u001b[0;34m[\u001b[0m\u001b[0;34m\"Species\"\u001b[0m\u001b[0;34m]\u001b[0m\u001b[0;34m==\u001b[0m\u001b[0;34m\"Human\"\u001b[0m\u001b[0;34m]\u001b[0m\u001b[0;34m\u001b[0m\u001b[0m\n\u001b[1;32m    103\u001b[0m     \u001b[0mgene_symbols\u001b[0m \u001b[0;34m=\u001b[0m \u001b[0mdata\u001b[0m\u001b[0;34m[\u001b[0m\u001b[0;34m\"Gene Name\"\u001b[0m\u001b[0;34m]\u001b[0m\u001b[0;34m.\u001b[0m\u001b[0mvalues\u001b[0m\u001b[0;34m.\u001b[0m\u001b[0mtolist\u001b[0m\u001b[0;34m(\u001b[0m\u001b[0;34m)\u001b[0m\u001b[0;34m\u001b[0m\u001b[0m\n",
      "\u001b[0;31mNameError\u001b[0m: global name 'pandas' is not defined"
     ]
    }
   ],
   "source": [
    "cancer = get_cancer()\n",
    "mendelian = get_mendelian()\n",
    "drugbank_target_all = get_drugbank(molecule_type=\"target\", subset=\"all\")"
   ]
  },
  {
   "cell_type": "markdown",
   "metadata": {},
   "source": [
    "## Enrichr: http://amp.pharm.mssm.edu/Enrichr/#"
   ]
  },
  {
   "cell_type": "code",
   "execution_count": null,
   "metadata": {
    "scrolled": true
   },
   "outputs": [],
   "source": [
    "names = gp.get_library_name()\n",
    "names"
   ]
  },
  {
   "cell_type": "code",
   "execution_count": null,
   "metadata": {},
   "outputs": [],
   "source": [
    "gene_list = ['CTLA2B', 'SCARA3', 'LOC100044683', 'CMBL', 'CLIC6', 'IL13RA1', 'TACSTD2', 'DKKL1', 'CSF1', 'CITED1']\n",
    "gene_rank = 3*np.random.random(len(gene_list))\n",
    "rnk = pd.DataFrame(np.array([gene_list, gene_rank]).T, columns = ['gene', 'score'])\n",
    "rnk\n",
    "\n",
    "#rnk = pd.DataFrame(np.array([gene_list]).T)\n",
    "#rnk"
   ]
  },
  {
   "cell_type": "code",
   "execution_count": null,
   "metadata": {},
   "outputs": [],
   "source": [
    "enr = gp.enrichr(gene_list=gene_list, description='pathway', gene_sets='KEGG_2016', outdir='test', cutoff=0.05, format='png')\n",
    "#enr = gp.enrichr(gene_list=gene_list, description='pathway', gene_sets=u'ARCHS4_Cell-lines', outdir='test', cutoff=0.05, format='png')\n",
    "enr.res2d[enr.res2d[\"Adjusted P-value\"]<0.1]"
   ]
  },
  {
   "cell_type": "markdown",
   "metadata": {},
   "source": [
    "## Prerank: http://software.broadinstitute.org/cancer/software/genepattern/modules/docs/GSEAPreranked/1"
   ]
  },
  {
   "cell_type": "code",
   "execution_count": null,
   "metadata": {
    "collapsed": true
   },
   "outputs": [],
   "source": [
    "pre_res = gp.prerank(rnk=rnk, gene_sets='KEGG_2016', outdir='prerank_report',format='png')\n",
    "pre_res.res2d.head()"
   ]
  },
  {
   "cell_type": "markdown",
   "metadata": {},
   "source": [
    "## Cancer gene Census (Controllability Paper)"
   ]
  },
  {
   "cell_type": "code",
   "execution_count": null,
   "metadata": {
    "collapsed": true
   },
   "outputs": [],
   "source": [
    "cancer_gene_census = pd.read_csv(\"cancer_gene_census.csv\")\n",
    "gene_symbols = cancer_gene_census.loc[:,\"Gene Symbol\"]\n",
    "gene_names = cancer_gene_census.loc[:,\"Name\"]\n",
    "gene_string = []\n",
    "list_of_synonyms = cancer_gene_census.loc[:,\"Synonyms\"]\n",
    "for synonyms in list_of_synonyms:\n",
    "    if str(synonyms) != 'nan':        \n",
    "        for synonym in synonyms.split(','):\n",
    "            if synonym[:3] == \"ENS\":\n",
    "                gene_string.append(synonym)\n",
    "print \"Number of genes = \", len(gene_symbols)"
   ]
  },
  {
   "cell_type": "code",
   "execution_count": null,
   "metadata": {},
   "outputs": [],
   "source": [
    "#with open(\"mimTitles.txt\", \"r\") as f:\n",
    "gene_entrez = []\n",
    "gene_symbols = []\n",
    "gene_string = []\n",
    "with open(\"validation_datasets/mim2gene.txt\") as f:\n",
    "    for line in f:\n",
    "        if len(line.split('\\t'))>1:\n",
    "            print line\n",
    "            if line.split('\\t')[1] == \"gene\":\n",
    "                if len(line.split('\\t'))>2:\n",
    "                    gene_entrez.append(line.split('\\t')[2])\n",
    "                    gene_symbols.append(line.split('\\t')[3])\n",
    "                    gene_string.append(line.split('\\t')[4])\n",
    "\n",
    "print \"Nb of genes =\", len(gene_string)"
   ]
  },
  {
   "cell_type": "code",
   "execution_count": null,
   "metadata": {
    "collapsed": true
   },
   "outputs": [],
   "source": [
    "#subset: \"all\" or \"approved\"\n",
    "#molecule_type: \"carrier\", \"enzyme\", \"target\", \"transporter\"\n",
    "def get_drug_bank(subset=\"all\", molecule_type=\"target\"):\n",
    "    data = pandas.read_csv(\"validation_datasets/drugbank_%s_%s_polypeptide_ids.csv/all.csv\"%(subset, molecule_type))\n",
    "    data = data[data[\"Species\"]==\"Human\"]\n",
    "    gene_names = data[\"Gene Name\"].values.tolist()\n",
    "    protein_names = data[\"Name\"].values.tolist()\n",
    "    uniprot_ID = data[\"UniProt ID\"].values.tolist()\n",
    "    return gene_names, protein_names, uniprot_ID\n",
    "\n",
    "gene_names, protein_names, uniprot_ID = get_drug_bank(subset=\"all\", molecule_type=\"transporter\")"
   ]
  }
 ],
 "metadata": {
  "kernelspec": {
   "display_name": "Python 2",
   "language": "python",
   "name": "python2"
  },
  "language_info": {
   "codemirror_mode": {
    "name": "ipython",
    "version": 2
   },
   "file_extension": ".py",
   "mimetype": "text/x-python",
   "name": "python",
   "nbconvert_exporter": "python",
   "pygments_lexer": "ipython2",
   "version": "2.7.14"
  }
 },
 "nbformat": 4,
 "nbformat_minor": 2
}
