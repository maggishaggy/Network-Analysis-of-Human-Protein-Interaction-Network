{
 "cells": [
  {
   "cell_type": "code",
   "execution_count": 1,
   "metadata": {
    "collapsed": true
   },
   "outputs": [],
   "source": [
    "import numpy as np\n",
    "%matplotlib inline\n",
    "import pandas as pd\n",
    "import gseapy as gp\n",
    "import matplotlib.pyplot as plt\n",
    "import math\n",
    "import networkx as nx\n"
   ]
  },
  {
   "cell_type": "code",
   "execution_count": 2,
   "metadata": {},
   "outputs": [
    {
     "name": "stdout",
     "output_type": "stream",
     "text": [
      "/Users/cedoz/Documents/Stanford/CS224W/Network-Analysis-of-Human-Protein-Interaction-Network\n"
     ]
    }
   ],
   "source": [
    "% cd .."
   ]
  },
  {
   "cell_type": "code",
   "execution_count": 3,
   "metadata": {
    "collapsed": true
   },
   "outputs": [],
   "source": [
    "from read_graph import read_graph\n",
    "from common.pipeline import Pipeline\n",
    "from common.feature_generators import *\n",
    "from validation import *"
   ]
  },
  {
   "cell_type": "code",
   "execution_count": 4,
   "metadata": {
    "collapsed": true
   },
   "outputs": [],
   "source": [
    "cancer = get_cancer()\n",
    "mendelian = get_mendelian()\n",
    "drugbank_target_all = get_drugbank(molecule_type=\"target\", subset=\"all\")"
   ]
  },
  {
   "cell_type": "code",
   "execution_count": 5,
   "metadata": {},
   "outputs": [
    {
     "name": "stderr",
     "output_type": "stream",
     "text": [
      "100%|██████████| 19576/19576 [00:00<00:00, 157723.19it/s]"
     ]
    },
    {
     "name": "stdout",
     "output_type": "stream",
     "text": [
      "Reading Nodes list\n"
     ]
    },
    {
     "name": "stderr",
     "output_type": "stream",
     "text": [
      "\n"
     ]
    },
    {
     "name": "stdout",
     "output_type": "stream",
     "text": [
      "Reading Edges list\n"
     ]
    }
   ],
   "source": [
    "Graph, node_names = read_graph(directed=False)"
   ]
  },
  {
   "cell_type": "code",
   "execution_count": 6,
   "metadata": {},
   "outputs": [
    {
     "name": "stdout",
     "output_type": "stream",
     "text": [
      "degree_undirected\n"
     ]
    }
   ],
   "source": [
    "pipeline = Pipeline(Degree())\n",
    "features = pipeline.apply(Graph, verbose=True)"
   ]
  },
  {
   "cell_type": "code",
   "execution_count": 31,
   "metadata": {
    "collapsed": true
   },
   "outputs": [],
   "source": [
    "scores = features[:,0]\n",
    "gene_query_Id = np.array(node_names.keys())[scores.argsort()[::-1]].tolist()\n",
    "gene_query = np.array(node_names.values())[scores.argsort()[::-1]].tolist()\n",
    "gene_rank = scores.copy()\n",
    "gene_rank.sort()\n",
    "gene_rank = gene_rank[::-1].tolist()"
   ]
  },
  {
   "cell_type": "code",
   "execution_count": 32,
   "metadata": {},
   "outputs": [],
   "source": [
    "gene_ref_formatted = [gene[4:] for gene in cancer['gene_string']]\n",
    "gene_query_formatted = [gene[9:] for gene in gene_query]"
   ]
  },
  {
   "cell_type": "code",
   "execution_count": 36,
   "metadata": {},
   "outputs": [
    {
     "data": {
      "text/plain": [
       "658"
      ]
     },
     "execution_count": 36,
     "metadata": {},
     "output_type": "execute_result"
    }
   ],
   "source": [
    "len(np.unique(gene_ref_formatted))"
   ]
  },
  {
   "cell_type": "code",
   "execution_count": 51,
   "metadata": {},
   "outputs": [
    {
     "name": "stdout",
     "output_type": "stream",
     "text": [
      "19576 100 0 0\n"
     ]
    }
   ],
   "source": [
    "N = len(gene_query_formatted)\n",
    "n = 100\n",
    "M = len(list(set(gene_query_formatted) & set(gene_ref_formatted)))\n",
    "m = len(list(set(gene_query_formatted[0:n]) & set(gene_ref_formatted)))\n",
    "print N,n,M,m"
   ]
  },
  {
   "cell_type": "code",
   "execution_count": 39,
   "metadata": {},
   "outputs": [
    {
     "data": {
      "text/plain": [
       "[]"
      ]
     },
     "execution_count": 39,
     "metadata": {},
     "output_type": "execute_result"
    }
   ],
   "source": [
    "[gene for gene in gene_query_formatted if gene in gene_ref_formatted]"
   ]
  },
  {
   "cell_type": "code",
   "execution_count": 50,
   "metadata": {},
   "outputs": [
    {
     "data": {
      "text/plain": [
       "100"
      ]
     },
     "execution_count": 50,
     "metadata": {},
     "output_type": "execute_result"
    }
   ],
   "source": [
    "len(gene_query_formatted[0:n])"
   ]
  },
  {
   "cell_type": "markdown",
   "metadata": {},
   "source": [
    "## Enrichr: http://amp.pharm.mssm.edu/Enrichr/#"
   ]
  },
  {
   "cell_type": "code",
   "execution_count": null,
   "metadata": {
    "collapsed": true
   },
   "outputs": [],
   "source": [
    "gene_list = ['CTLA2B', 'SCARA3', 'LOC100044683', 'CMBL', 'CLIC6', 'IL13RA1', 'TACSTD2', 'DKKL1', 'CSF1', 'CITED1']\n",
    "gene_rank = 3*np.random.random(len(gene_list))\n",
    "rnk = pd.DataFrame(np.array([gene_list, gene_rank]).T, columns = ['gene', 'score'])\n",
    "rnk\n",
    "\n",
    "#rnk = pd.DataFrame(np.array([gene_list]).T)\n",
    "#rnk"
   ]
  },
  {
   "cell_type": "code",
   "execution_count": null,
   "metadata": {
    "collapsed": true
   },
   "outputs": [],
   "source": [
    "enr = gp.enrichr(gene_list=gene_list, description='pathway', gene_sets='KEGG_2016', outdir='test', cutoff=0.05, format='png')\n",
    "#enr = gp.enrichr(gene_list=gene_list, description='pathway', gene_sets=u'ARCHS4_Cell-lines', outdir='test', cutoff=0.05, format='png')\n",
    "enr.res2d[enr.res2d[\"Adjusted P-value\"]<0.1]"
   ]
  },
  {
   "cell_type": "markdown",
   "metadata": {},
   "source": [
    "## Prerank: http://software.broadinstitute.org/cancer/software/genepattern/modules/docs/GSEAPreranked/1"
   ]
  },
  {
   "cell_type": "code",
   "execution_count": null,
   "metadata": {
    "collapsed": true
   },
   "outputs": [],
   "source": [
    "pre_res = gp.prerank(rnk=rnk, gene_sets='KEGG_2016', outdir='prerank_report',format='png')\n",
    "pre_res.res2d.head()"
   ]
  },
  {
   "cell_type": "markdown",
   "metadata": {},
   "source": [
    "## Cancer gene Census (Controllability Paper)"
   ]
  },
  {
   "cell_type": "code",
   "execution_count": null,
   "metadata": {
    "collapsed": true
   },
   "outputs": [],
   "source": [
    "cancer_gene_census = pd.read_csv(\"cancer_gene_census.csv\")\n",
    "gene_symbols = cancer_gene_census.loc[:,\"Gene Symbol\"]\n",
    "gene_names = cancer_gene_census.loc[:,\"Name\"]\n",
    "gene_string = []\n",
    "list_of_synonyms = cancer_gene_census.loc[:,\"Synonyms\"]\n",
    "for synonyms in list_of_synonyms:\n",
    "    if str(synonyms) != 'nan':        \n",
    "        for synonym in synonyms.split(','):\n",
    "            if synonym[:3] == \"ENS\":\n",
    "                gene_string.append(synonym)\n",
    "print \"Number of genes = \", len(gene_symbols)"
   ]
  },
  {
   "cell_type": "code",
   "execution_count": null,
   "metadata": {
    "collapsed": true
   },
   "outputs": [],
   "source": [
    "#with open(\"mimTitles.txt\", \"r\") as f:\n",
    "gene_entrez = []\n",
    "gene_symbols = []\n",
    "gene_string = []\n",
    "with open(\"validation_datasets/mim2gene.txt\") as f:\n",
    "    for line in f:\n",
    "        if len(line.split('\\t'))>1:\n",
    "            print line\n",
    "            if line.split('\\t')[1] == \"gene\":\n",
    "                if len(line.split('\\t'))>2:\n",
    "                    gene_entrez.append(line.split('\\t')[2])\n",
    "                    gene_symbols.append(line.split('\\t')[3])\n",
    "                    gene_string.append(line.split('\\t')[4])\n",
    "\n",
    "print \"Nb of genes =\", len(gene_string)"
   ]
  },
  {
   "cell_type": "code",
   "execution_count": null,
   "metadata": {
    "collapsed": true
   },
   "outputs": [],
   "source": [
    "#subset: \"all\" or \"approved\"\n",
    "#molecule_type: \"carrier\", \"enzyme\", \"target\", \"transporter\"\n",
    "def get_drug_bank(subset=\"all\", molecule_type=\"target\"):\n",
    "    data = pandas.read_csv(\"validation_datasets/drugbank_%s_%s_polypeptide_ids.csv/all.csv\"%(subset, molecule_type))\n",
    "    data = data[data[\"Species\"]==\"Human\"]\n",
    "    gene_names = data[\"Gene Name\"].values.tolist()\n",
    "    protein_names = data[\"Name\"].values.tolist()\n",
    "    uniprot_ID = data[\"UniProt ID\"].values.tolist()\n",
    "    return gene_names, protein_names, uniprot_ID\n",
    "\n",
    "gene_names, protein_names, uniprot_ID = get_drug_bank(subset=\"all\", molecule_type=\"transporter\")"
   ]
  }
 ],
 "metadata": {
  "kernelspec": {
   "display_name": "Python 2",
   "language": "python",
   "name": "python2"
  },
  "language_info": {
   "codemirror_mode": {
    "name": "ipython",
    "version": 2
   },
   "file_extension": ".py",
   "mimetype": "text/x-python",
   "name": "python",
   "nbconvert_exporter": "python",
   "pygments_lexer": "ipython2",
   "version": "2.7.14"
  }
 },
 "nbformat": 4,
 "nbformat_minor": 2
}
