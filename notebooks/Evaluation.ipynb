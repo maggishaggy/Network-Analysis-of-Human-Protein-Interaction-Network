{
 "cells": [
  {
   "cell_type": "code",
   "execution_count": null,
   "metadata": {
    "collapsed": true
   },
   "outputs": [],
   "source": [
    "import networkx as nx\n",
    "% cd ..\n",
    "from read_graph import read_graph\n",
    "from common.pipeline import Pipeline\n",
    "from common.feature_generators import *\n",
    "from validation import *\n",
    "from validation_datasets import *\n",
    "from GSEA_validation import *\n",
    "\n",
    "# Loading PPI graph\n",
    "Graph, node_names = read_graph(directed=False)\n",
    "print(\"Loaded graph:\\n\\t{} nodes\\n\\t{} edges\".format(\n",
    "    Graph.number_of_nodes(),\n",
    "    Graph.number_of_edges()\n",
    "    ))\n",
    "\n",
    "#########################\n",
    "# Computing node features\n",
    "#########################\n",
    "\n",
    "# The pipeline object takes as an argument the sequence of features we want\n",
    "pipeline = Pipeline(Degree(), ExpectedDegree())\n",
    "features = pipeline.apply(Graph, verbose=True)\n",
    "\n",
    "\n",
    "#########################\n",
    "# Learning\n",
    "#########################\n",
    "\n",
    "gene_query, gene_rank = get_query_and_rank(features, node_names, index=0)\n",
    "\n",
    "#########################\n",
    "# Validation\n",
    "#########################\n",
    "\n",
    "#Perform gene set enrichment analysis (GSEA) on a variety of gene sets directories\n",
    "gene_sets_directories = [u'Cancer_Cell_Line_Encyclopedia', u'ChEA_2016', u'DrugMatrix', u'GeneSigDB', u'KEGG_2016', u'LINCS_L1000_Chem_Pert_down', u'LINCS_L1000_Chem_Pert_up', u'MSigDB_Computational', u'MSigDB_Oncogenic_Signatures', u'OMIM_Disease', u'OMIM_Expanded', u'PPI_Hub_Proteins', u'Panther_2016', u'Reactome_2016']\n",
    "enrichr = enrichr_validation(gene_query, gene_rank=None, outdir=\"validation_results\", gene_sets='KEGG_2016')\n",
    "prerank = prerank_validation(gene_query, gene_rank, outdir=\"validation_results\", gene_sets='KEGG_2016')\n",
    "\n",
    "#Extract relevant gene lists\n",
    "\n",
    "gene_ref = get_gene_ref(source=\"cancer\")\n",
    "\n",
    "compare_gene_lists(gene_query, gene_rank, gene_ref)\n",
    "\n"
   ]
  },
  {
   "cell_type": "code",
   "execution_count": null,
   "metadata": {
    "collapsed": true
   },
   "outputs": [],
   "source": [
    "gene_query, gene_rank = get_query_and_rank(features, node_names, index=0)\n"
   ]
  },
  {
   "cell_type": "code",
   "execution_count": null,
   "metadata": {},
   "outputs": [],
   "source": [
    "len(gene_rank)"
   ]
  },
  {
   "cell_type": "code",
   "execution_count": null,
   "metadata": {},
   "outputs": [],
   "source": [
    "N = len(gene_query_formatted)\n",
    "n = 100\n",
    "M = len(list(set(gene_query_formatted) & set(gene_ref_formatted)))\n",
    "m = len(list(set(gene_query_formatted[0:n]) & set(gene_ref_formatted)))\n",
    "print N,n,M,m"
   ]
  },
  {
   "cell_type": "markdown",
   "metadata": {},
   "source": [
    "## Enrichr: http://amp.pharm.mssm.edu/Enrichr/#"
   ]
  },
  {
   "cell_type": "code",
   "execution_count": null,
   "metadata": {
    "collapsed": true
   },
   "outputs": [],
   "source": [
    "gene_list = ['CTLA2B', 'SCARA3', 'LOC100044683', 'CMBL', 'CLIC6', 'IL13RA1', 'TACSTD2', 'DKKL1', 'CSF1', 'CITED1']\n",
    "gene_rank = 3*np.random.random(len(gene_list))\n",
    "rnk = pd.DataFrame(np.array([gene_list, gene_rank]).T, columns = ['gene', 'score'])\n",
    "rnk\n",
    "\n",
    "#rnk = pd.DataFrame(np.array([gene_list]).T)\n",
    "#rnk"
   ]
  },
  {
   "cell_type": "code",
   "execution_count": null,
   "metadata": {
    "collapsed": true
   },
   "outputs": [],
   "source": [
    "enr = gp.enrichr(gene_list=gene_list, description='pathway', gene_sets='KEGG_2016', outdir='test', cutoff=0.05, format='png')\n",
    "#enr = gp.enrichr(gene_list=gene_list, description='pathway', gene_sets=u'ARCHS4_Cell-lines', outdir='test', cutoff=0.05, format='png')\n",
    "enr.res2d[enr.res2d[\"Adjusted P-value\"]<0.1]"
   ]
  },
  {
   "cell_type": "markdown",
   "metadata": {},
   "source": [
    "## Prerank: http://software.broadinstitute.org/cancer/software/genepattern/modules/docs/GSEAPreranked/1"
   ]
  },
  {
   "cell_type": "code",
   "execution_count": null,
   "metadata": {
    "collapsed": true
   },
   "outputs": [],
   "source": [
    "pre_res = gp.prerank(rnk=rnk, gene_sets='KEGG_2016', outdir='prerank_report',format='png')\n",
    "pre_res.res2d.head()"
   ]
  },
  {
   "cell_type": "markdown",
   "metadata": {},
   "source": [
    "## Cancer gene Census (Controllability Paper)"
   ]
  },
  {
   "cell_type": "code",
   "execution_count": null,
   "metadata": {
    "collapsed": true
   },
   "outputs": [],
   "source": [
    "cancer_gene_census = pd.read_csv(\"cancer_gene_census.csv\")\n",
    "gene_symbols = cancer_gene_census.loc[:,\"Gene Symbol\"]\n",
    "gene_names = cancer_gene_census.loc[:,\"Name\"]\n",
    "gene_string = []\n",
    "list_of_synonyms = cancer_gene_census.loc[:,\"Synonyms\"]\n",
    "for synonyms in list_of_synonyms:\n",
    "    if str(synonyms) != 'nan':        \n",
    "        for synonym in synonyms.split(','):\n",
    "            if synonym[:3] == \"ENS\":\n",
    "                gene_string.append(synonym)\n",
    "print \"Number of genes = \", len(gene_symbols)"
   ]
  },
  {
   "cell_type": "code",
   "execution_count": null,
   "metadata": {
    "collapsed": true
   },
   "outputs": [],
   "source": [
    "#with open(\"mimTitles.txt\", \"r\") as f:\n",
    "gene_entrez = []\n",
    "gene_symbols = []\n",
    "gene_string = []\n",
    "with open(\"validation_datasets/mim2gene.txt\") as f:\n",
    "    for line in f:\n",
    "        if len(line.split('\\t'))>1:\n",
    "            print line\n",
    "            if line.split('\\t')[1] == \"gene\":\n",
    "                if len(line.split('\\t'))>2:\n",
    "                    gene_entrez.append(line.split('\\t')[2])\n",
    "                    gene_symbols.append(line.split('\\t')[3])\n",
    "                    gene_string.append(line.split('\\t')[4])\n",
    "\n",
    "print \"Nb of genes =\", len(gene_string)"
   ]
  },
  {
   "cell_type": "code",
   "execution_count": null,
   "metadata": {
    "collapsed": true
   },
   "outputs": [],
   "source": [
    "#subset: \"all\" or \"approved\"\n",
    "#molecule_type: \"carrier\", \"enzyme\", \"target\", \"transporter\"\n",
    "def get_drug_bank(subset=\"all\", molecule_type=\"target\"):\n",
    "    data = pandas.read_csv(\"validation_datasets/drugbank_%s_%s_polypeptide_ids.csv/all.csv\"%(subset, molecule_type))\n",
    "    data = data[data[\"Species\"]==\"Human\"]\n",
    "    gene_names = data[\"Gene Name\"].values.tolist()\n",
    "    protein_names = data[\"Name\"].values.tolist()\n",
    "    uniprot_ID = data[\"UniProt ID\"].values.tolist()\n",
    "    return gene_names, protein_names, uniprot_ID\n",
    "\n",
    "gene_names, protein_names, uniprot_ID = get_drug_bank(subset=\"all\", molecule_type=\"transporter\")"
   ]
  }
 ],
 "metadata": {
  "kernelspec": {
   "display_name": "Python 2",
   "language": "python",
   "name": "python2"
  },
  "language_info": {
   "codemirror_mode": {
    "name": "ipython",
    "version": 2
   },
   "file_extension": ".py",
   "mimetype": "text/x-python",
   "name": "python",
   "nbconvert_exporter": "python",
   "pygments_lexer": "ipython2",
   "version": "2.7.14"
  }
 },
 "nbformat": 4,
 "nbformat_minor": 2
}
