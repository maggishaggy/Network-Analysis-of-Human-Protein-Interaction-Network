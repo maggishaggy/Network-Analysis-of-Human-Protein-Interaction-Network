{
 "cells": [
  {
   "cell_type": "code",
   "execution_count": 24,
   "metadata": {
    "collapsed": true
   },
   "outputs": [],
   "source": [
    "import numpy as np\n",
    "%matplotlib inline\n",
    "import pandas as pd\n",
    "import gseapy as gp\n",
    "import matplotlib.pyplot as plt\n",
    "import math"
   ]
  },
  {
   "cell_type": "markdown",
   "metadata": {},
   "source": [
    "## Enrichr: http://amp.pharm.mssm.edu/Enrichr/#"
   ]
  },
  {
   "cell_type": "code",
   "execution_count": 25,
   "metadata": {},
   "outputs": [
    {
     "data": {
      "text/plain": [
       "[u'ARCHS4_Cell-lines', u'ARCHS4_IDG_Coexp', u'ARCHS4_Kinases_Coexp']"
      ]
     },
     "execution_count": 25,
     "metadata": {},
     "output_type": "execute_result"
    }
   ],
   "source": [
    "names = gp.get_library_name()\n",
    "names[:3]"
   ]
  },
  {
   "cell_type": "code",
   "execution_count": 26,
   "metadata": {},
   "outputs": [
    {
     "data": {
      "text/html": [
       "<div>\n",
       "<style scoped>\n",
       "    .dataframe tbody tr th:only-of-type {\n",
       "        vertical-align: middle;\n",
       "    }\n",
       "\n",
       "    .dataframe tbody tr th {\n",
       "        vertical-align: top;\n",
       "    }\n",
       "\n",
       "    .dataframe thead th {\n",
       "        text-align: right;\n",
       "    }\n",
       "</style>\n",
       "<table border=\"1\" class=\"dataframe\">\n",
       "  <thead>\n",
       "    <tr style=\"text-align: right;\">\n",
       "      <th></th>\n",
       "      <th>gene</th>\n",
       "      <th>score</th>\n",
       "    </tr>\n",
       "  </thead>\n",
       "  <tbody>\n",
       "    <tr>\n",
       "      <th>0</th>\n",
       "      <td>CTLA2B</td>\n",
       "      <td>0.483765663049</td>\n",
       "    </tr>\n",
       "    <tr>\n",
       "      <th>1</th>\n",
       "      <td>SCARA3</td>\n",
       "      <td>0.0161355477095</td>\n",
       "    </tr>\n",
       "    <tr>\n",
       "      <th>2</th>\n",
       "      <td>LOC100044683</td>\n",
       "      <td>1.18328605383</td>\n",
       "    </tr>\n",
       "    <tr>\n",
       "      <th>3</th>\n",
       "      <td>CMBL</td>\n",
       "      <td>2.98834621646</td>\n",
       "    </tr>\n",
       "    <tr>\n",
       "      <th>4</th>\n",
       "      <td>CLIC6</td>\n",
       "      <td>2.39063314734</td>\n",
       "    </tr>\n",
       "    <tr>\n",
       "      <th>5</th>\n",
       "      <td>IL13RA1</td>\n",
       "      <td>0.26839862135</td>\n",
       "    </tr>\n",
       "    <tr>\n",
       "      <th>6</th>\n",
       "      <td>TACSTD2</td>\n",
       "      <td>1.77861745782</td>\n",
       "    </tr>\n",
       "    <tr>\n",
       "      <th>7</th>\n",
       "      <td>DKKL1</td>\n",
       "      <td>0.0702498118171</td>\n",
       "    </tr>\n",
       "    <tr>\n",
       "      <th>8</th>\n",
       "      <td>CSF1</td>\n",
       "      <td>2.69201138049</td>\n",
       "    </tr>\n",
       "    <tr>\n",
       "      <th>9</th>\n",
       "      <td>CITED1</td>\n",
       "      <td>0.611691158849</td>\n",
       "    </tr>\n",
       "  </tbody>\n",
       "</table>\n",
       "</div>"
      ],
      "text/plain": [
       "           gene            score\n",
       "0        CTLA2B   0.483765663049\n",
       "1        SCARA3  0.0161355477095\n",
       "2  LOC100044683    1.18328605383\n",
       "3          CMBL    2.98834621646\n",
       "4         CLIC6    2.39063314734\n",
       "5       IL13RA1    0.26839862135\n",
       "6       TACSTD2    1.77861745782\n",
       "7         DKKL1  0.0702498118171\n",
       "8          CSF1    2.69201138049\n",
       "9        CITED1   0.611691158849"
      ]
     },
     "execution_count": 26,
     "metadata": {},
     "output_type": "execute_result"
    }
   ],
   "source": [
    "gene_list = ['CTLA2B', 'SCARA3', 'LOC100044683', 'CMBL', 'CLIC6', 'IL13RA1', 'TACSTD2', 'DKKL1', 'CSF1', 'CITED1']\n",
    "gene_rank = 3*np.random.random(len(gene_list))\n",
    "rnk = pd.DataFrame(np.array([gene_list, gene_rank]).T, columns = ['gene', 'score'])\n",
    "rnk"
   ]
  },
  {
   "cell_type": "code",
   "execution_count": 28,
   "metadata": {},
   "outputs": [
    {
     "name": "stderr",
     "output_type": "stream",
     "text": [
      "2017-11-13 16:44:42,456 Warning: No enrich terms using library KEGG_2016 when cuttoff = 0.05\n"
     ]
    },
    {
     "data": {
      "text/html": [
       "<div>\n",
       "<style scoped>\n",
       "    .dataframe tbody tr th:only-of-type {\n",
       "        vertical-align: middle;\n",
       "    }\n",
       "\n",
       "    .dataframe tbody tr th {\n",
       "        vertical-align: top;\n",
       "    }\n",
       "\n",
       "    .dataframe thead th {\n",
       "        text-align: right;\n",
       "    }\n",
       "</style>\n",
       "<table border=\"1\" class=\"dataframe\">\n",
       "  <thead>\n",
       "    <tr style=\"text-align: right;\">\n",
       "      <th></th>\n",
       "      <th>Term</th>\n",
       "      <th>Overlap</th>\n",
       "      <th>P-value</th>\n",
       "      <th>Adjusted P-value</th>\n",
       "      <th>Old P-value</th>\n",
       "      <th>Old Adjusted P-value</th>\n",
       "      <th>Z-score</th>\n",
       "      <th>Combined Score</th>\n",
       "      <th>Genes</th>\n",
       "    </tr>\n",
       "  </thead>\n",
       "  <tbody>\n",
       "    <tr>\n",
       "      <th>0</th>\n",
       "      <td>Hematopoietic cell lineage_Homo sapiens_hsa04640</td>\n",
       "      <td>1/88</td>\n",
       "      <td>0.043148</td>\n",
       "      <td>0.16022</td>\n",
       "      <td>0.037596</td>\n",
       "      <td>0.139575</td>\n",
       "      <td>-1.786915</td>\n",
       "      <td>5.616469</td>\n",
       "      <td>CSF1</td>\n",
       "    </tr>\n",
       "    <tr>\n",
       "      <th>1</th>\n",
       "      <td>Rheumatoid arthritis_Homo sapiens_hsa05323</td>\n",
       "      <td>1/90</td>\n",
       "      <td>0.044109</td>\n",
       "      <td>0.16022</td>\n",
       "      <td>0.038430</td>\n",
       "      <td>0.139575</td>\n",
       "      <td>-1.746097</td>\n",
       "      <td>5.449715</td>\n",
       "      <td>CSF1</td>\n",
       "    </tr>\n",
       "    <tr>\n",
       "      <th>2</th>\n",
       "      <td>TNF signaling pathway_Homo sapiens_hsa04668</td>\n",
       "      <td>1/110</td>\n",
       "      <td>0.053670</td>\n",
       "      <td>0.16022</td>\n",
       "      <td>0.046742</td>\n",
       "      <td>0.139575</td>\n",
       "      <td>-1.860799</td>\n",
       "      <td>5.442643</td>\n",
       "      <td>CSF1</td>\n",
       "    </tr>\n",
       "    <tr>\n",
       "      <th>3</th>\n",
       "      <td>Osteoclast differentiation_Homo sapiens_hsa04380</td>\n",
       "      <td>1/132</td>\n",
       "      <td>0.064088</td>\n",
       "      <td>0.16022</td>\n",
       "      <td>0.055830</td>\n",
       "      <td>0.139575</td>\n",
       "      <td>-1.786504</td>\n",
       "      <td>4.908420</td>\n",
       "      <td>CSF1</td>\n",
       "    </tr>\n",
       "  </tbody>\n",
       "</table>\n",
       "</div>"
      ],
      "text/plain": [
       "                                               Term Overlap   P-value  \\\n",
       "0  Hematopoietic cell lineage_Homo sapiens_hsa04640    1/88  0.043148   \n",
       "1        Rheumatoid arthritis_Homo sapiens_hsa05323    1/90  0.044109   \n",
       "2       TNF signaling pathway_Homo sapiens_hsa04668   1/110  0.053670   \n",
       "3  Osteoclast differentiation_Homo sapiens_hsa04380   1/132  0.064088   \n",
       "\n",
       "   Adjusted P-value  Old P-value  Old Adjusted P-value   Z-score  \\\n",
       "0           0.16022     0.037596              0.139575 -1.786915   \n",
       "1           0.16022     0.038430              0.139575 -1.746097   \n",
       "2           0.16022     0.046742              0.139575 -1.860799   \n",
       "3           0.16022     0.055830              0.139575 -1.786504   \n",
       "\n",
       "   Combined Score Genes  \n",
       "0        5.616469  CSF1  \n",
       "1        5.449715  CSF1  \n",
       "2        5.442643  CSF1  \n",
       "3        4.908420  CSF1  "
      ]
     },
     "execution_count": 28,
     "metadata": {},
     "output_type": "execute_result"
    }
   ],
   "source": [
    "#enr = gp.enrichr(gene_list=gene_list, description='pathway', gene_sets='KEGG_2016', outdir='test', cutoff=0.05, format='png')\n",
    "enr = gp.enrichr(gene_list=rnk, description='pathway', gene_sets='KEGG_2016', outdir='test', cutoff=0.05, format='png')\n",
    "enr.res2d.iloc[:4,:]"
   ]
  },
  {
   "cell_type": "markdown",
   "metadata": {},
   "source": [
    "## Prerank: http://software.broadinstitute.org/cancer/software/genepattern/modules/docs/GSEAPreranked/1"
   ]
  },
  {
   "cell_type": "code",
   "execution_count": 29,
   "metadata": {},
   "outputs": [
    {
     "name": "stderr",
     "output_type": "stream",
     "text": [
      "2017-11-13 16:44:46,431 No gene sets passed throught filtering condition!!!, try new paramters again!\n",
      "Note: Gene names for gseapy is case sensitive.\n"
     ]
    },
    {
     "ename": "SystemExit",
     "evalue": "1",
     "output_type": "error",
     "traceback": [
      "An exception has occurred, use %tb to see the full traceback.\n",
      "\u001b[0;31mSystemExit\u001b[0m\u001b[0;31m:\u001b[0m 1\n"
     ]
    },
    {
     "name": "stderr",
     "output_type": "stream",
     "text": [
      "/Users/cedoz/anaconda2/envs/cs224w/lib/python2.7/site-packages/IPython/core/interactiveshell.py:2890: UserWarning: To exit: use 'exit', 'quit', or Ctrl-D.\n",
      "  warn(\"To exit: use 'exit', 'quit', or Ctrl-D.\", stacklevel=1)\n"
     ]
    }
   ],
   "source": [
    "pre_res = gp.prerank(rnk=rnk, gene_sets='KEGG_2016', outdir='prerank_report',format='png')\n",
    "pre_res.res2d.head()"
   ]
  },
  {
   "cell_type": "markdown",
   "metadata": {},
   "source": [
    "## Cancer gene Census (Controllability Paper)"
   ]
  },
  {
   "cell_type": "code",
   "execution_count": 32,
   "metadata": {},
   "outputs": [
    {
     "name": "stdout",
     "output_type": "stream",
     "text": [
      "Number of genes =  699\n"
     ]
    }
   ],
   "source": [
    "cancer_gene_census = pd.read_csv(\"cancer_gene_census.csv\")\n",
    "gene_symbols = cancer_gene_census.loc[:,\"Gene Symbol\"]\n",
    "gene_names = cancer_gene_census.loc[:,\"Name\"]\n",
    "gene_string = []\n",
    "list_of_synonyms = cancer_gene_census.loc[:,\"Synonyms\"]\n",
    "for synonyms in list_of_synonyms:\n",
    "    if str(synonyms) != 'nan':        \n",
    "        for synonym in synonyms.split(','):\n",
    "            if synonym[:3] == \"ENS\":\n",
    "                gene_string.append(synonym)\n",
    "print \"Number of genes = \", len(gene_symbols)"
   ]
  },
  {
   "cell_type": "code",
   "execution_count": 31,
   "metadata": {},
   "outputs": [
    {
     "name": "stdout",
     "output_type": "stream",
     "text": [
      "Nb of genes = 15766\n"
     ]
    }
   ],
   "source": [
    "#with open(\"mimTitles.txt\", \"r\") as f:\n",
    "gene_entrez = []\n",
    "gene_symbols = []\n",
    "gene_string = []\n",
    "with open(\"mim2gene.txt\") as f:\n",
    "    for line in f:\n",
    "        if len(line.split('\\t'))>1:\n",
    "            if line.split('\\t')[1] == \"gene\":\n",
    "                if len(line.split('\\t'))>2:\n",
    "                    gene_entrez.append(line.split('\\t')[2])\n",
    "                    gene_symbols.append(line.split('\\t')[3])\n",
    "                    gene_string.append(line.split('\\t')[4])\n",
    "\n",
    "print \"Nb of genes =\", len(gene_string)"
   ]
  },
  {
   "cell_type": "code",
   "execution_count": null,
   "metadata": {
    "collapsed": true
   },
   "outputs": [],
   "source": []
  }
 ],
 "metadata": {
  "kernelspec": {
   "display_name": "Python 2",
   "language": "python",
   "name": "python2"
  },
  "language_info": {
   "codemirror_mode": {
    "name": "ipython",
    "version": 2
   },
   "file_extension": ".py",
   "mimetype": "text/x-python",
   "name": "python",
   "nbconvert_exporter": "python",
   "pygments_lexer": "ipython2",
   "version": "2.7.14"
  }
 },
 "nbformat": 4,
 "nbformat_minor": 2
}
