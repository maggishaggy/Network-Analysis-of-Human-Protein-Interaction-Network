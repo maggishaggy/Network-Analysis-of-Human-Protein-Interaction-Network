{
 "cells": [
  {
   "cell_type": "code",
   "execution_count": 1,
   "metadata": {},
   "outputs": [
    {
     "name": "stdout",
     "output_type": "stream",
     "text": [
      "\n",
      "######### Loading Graph #########\n",
      "\n",
      "######### Computing/retrieving node features #########\n",
      "\n",
      "######### get_query_and_rank() #########\n"
     ]
    },
    {
     "ename": "NameError",
     "evalue": "name 'features' is not defined",
     "output_type": "error",
     "traceback": [
      "\u001b[0;31m---------------------------------------------------------------------------\u001b[0m",
      "\u001b[0;31mNameError\u001b[0m                                 Traceback (most recent call last)",
      "\u001b[0;32m<ipython-input-1-43aecc45a198>\u001b[0m in \u001b[0;36m<module>\u001b[0;34m()\u001b[0m\n\u001b[1;32m     47\u001b[0m \u001b[0mprint\u001b[0m\u001b[0;34m(\u001b[0m\u001b[0;34m\"\\n######### get_query_and_rank() #########\"\u001b[0m\u001b[0;34m)\u001b[0m\u001b[0;34m\u001b[0m\u001b[0m\n\u001b[1;32m     48\u001b[0m \u001b[0;34m\u001b[0m\u001b[0m\n\u001b[0;32m---> 49\u001b[0;31m \u001b[0mgene_query\u001b[0m\u001b[0;34m,\u001b[0m \u001b[0mgene_rank\u001b[0m\u001b[0;34m,\u001b[0m \u001b[0mstring_to_symbol\u001b[0m \u001b[0;34m=\u001b[0m \u001b[0mget_query_and_rank\u001b[0m\u001b[0;34m(\u001b[0m\u001b[0mfeatures\u001b[0m\u001b[0;34m,\u001b[0m \u001b[0mnode_names\u001b[0m\u001b[0;34m,\u001b[0m \u001b[0mindex\u001b[0m\u001b[0;34m=\u001b[0m\u001b[0;36m0\u001b[0m\u001b[0;34m)\u001b[0m\u001b[0;34m\u001b[0m\u001b[0m\n\u001b[0m",
      "\u001b[0;31mNameError\u001b[0m: name 'features' is not defined"
     ]
    }
   ],
   "source": [
    "# This script contains everything the whole sequence of things to do\n",
    "# to get our results.\n",
    "\n",
    "import networkx as nx\n",
    "\n",
    "from read_graph import read_graph\n",
    "from common.pipeline import Pipeline\n",
    "from common.feature_generators import ExpectedDegree\n",
    "from common.feature_generators import ClusteringCoefficient\n",
    "from common.feature_generators import Degree\n",
    "from common.feature_generators import ClosenessCentrality\n",
    "from common.feature_generators import BetweennessCentrality\n",
    "from common.feature_generators import HITS\n",
    "from common.feature_generators import PageRank\n",
    "from common.feature_generators import Log10Wrapper\n",
    "from common.feature_generators import NormalizeWrapper\n",
    "from validation import get_query_and_rank\n",
    "from validation import compare_feature_distribution_mannwhitney\n",
    "from validation import compare_feature_distribution_hypergeom\n",
    "from validation_import import get_gene_ref\n",
    "\n",
    "# Loading PPI graph\n",
    "print(\"\\n######### Loading Graph #########\")\n",
    "Graph, node_names = read_graph(directed=False)\n",
    "print(\"Loaded graph:\\n\\t{} nodes\\n\\t{} edges\".format(\n",
    "    Graph.number_of_nodes(),\n",
    "    Graph.number_of_edges()\n",
    "))\n",
    "\n",
    "#########################\n",
    "# Computing node features\n",
    "#########################\n",
    "\n",
    "print(\"\\n######### Computing/retrieving node features #########\")\n",
    "\n",
    "# The pipeline object takes as an argument the sequence of features we want\n",
    "pipeline = Pipeline(Degree(default_dump=True, default_recomputing=False),\n",
    "                    ExpectedDegree(default_dump=True, default_recomputing=False), ClusteringCoefficient(),\n",
    "                    ClosenessCentrality(), BetweennessCentrality(), HITS(), PageRank(), Log10Wrapper(Degree())(),\n",
    "                    NormalizeWrapper(Degree())(),NormalizeWrapper(HITS())())\n",
    "features = pipeline.apply(Graph, verbose=True)\n",
    "\n",
    "#########################\n",
    "# Class prediction\n",
    "#########################\n",
    "\n",
    "print(\"\\n######### get_query_and_rank() #########\")\n",
    "\n",
    "gene_query, gene_rank, string_to_symbol = get_query_and_rank(features, node_names, index=0)\n"
   ]
  },
  {
   "cell_type": "code",
   "execution_count": 2,
   "metadata": {},
   "outputs": [
    {
     "data": {
      "text/plain": [
       "<common.pipeline.Pipeline at 0x19177cf9b0>"
      ]
     },
     "execution_count": 2,
     "metadata": {},
     "output_type": "execute_result"
    }
   ],
   "source": [
    "pipeline."
   ]
  },
  {
   "cell_type": "code",
   "execution_count": null,
   "metadata": {},
   "outputs": [],
   "source": [
    "[node[name] for node in Graph.nodes]"
   ]
  },
  {
   "cell_type": "code",
   "execution_count": null,
   "metadata": {},
   "outputs": [],
   "source": []
  },
  {
   "cell_type": "code",
   "execution_count": null,
   "metadata": {
    "collapsed": true
   },
   "outputs": [],
   "source": []
  }
 ],
 "metadata": {
  "kernelspec": {
   "display_name": "Python 3",
   "language": "python",
   "name": "python3"
  },
  "language_info": {
   "codemirror_mode": {
    "name": "ipython",
    "version": 3
   },
   "file_extension": ".py",
   "mimetype": "text/x-python",
   "name": "python",
   "nbconvert_exporter": "python",
   "pygments_lexer": "ipython3",
   "version": "3.6.3"
  }
 },
 "nbformat": 4,
 "nbformat_minor": 2
}
