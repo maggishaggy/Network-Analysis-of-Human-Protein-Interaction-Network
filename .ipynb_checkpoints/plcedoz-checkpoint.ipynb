{
 "cells": [
  {
   "cell_type": "code",
   "execution_count": 3,
   "metadata": {},
   "outputs": [
    {
     "name": "stderr",
     "output_type": "stream",
     "text": [
      "100%|██████████| 19576/19576 [00:00<00:00, 163064.16it/s]"
     ]
    },
    {
     "name": "stdout",
     "output_type": "stream",
     "text": [
      "\n",
      "######### Loading Graph #########\n",
      "Reading Nodes list\n"
     ]
    },
    {
     "name": "stderr",
     "output_type": "stream",
     "text": [
      "\n"
     ]
    },
    {
     "name": "stdout",
     "output_type": "stream",
     "text": [
      "Reading Edges list\n",
      "Loaded graph:\n",
      "\t19576 nodes\n",
      "\t5676528 edges\n",
      "\n",
      "######### Computing/retrieving node features #########\n",
      "degree_undirected\n",
      "expecteddegree_undirected\n",
      "clusteringcoefficient\n",
      "closeness\n",
      "betweenness\n",
      "hits\n",
      "pagerank\n",
      "log10-degree_undirected\n",
      "normalized-degree_undirected\n",
      "normalized-hits\n",
      "\n",
      "######### Features Correlation #########\n",
      "Computing correlations/pvalues for all features for different sources\n",
      "\n",
      "Source = cancer\n",
      "degree_undirected: pvalue Mann-Whitney = 0.00 \t pvalue hypergeometric = 0.00\n",
      "expecteddegree_undirected: pvalue Mann-Whitney = 0.00 \t pvalue hypergeometric = 0.00\n",
      "clusteringcoefficient: pvalue Mann-Whitney = 0.01 \t pvalue hypergeometric = 0.86\n",
      "closeness: pvalue Mann-Whitney = 0.00 \t pvalue hypergeometric = 0.00\n",
      "betweenness: pvalue Mann-Whitney = 0.00 \t pvalue hypergeometric = 0.00\n",
      "hits_hubs: pvalue Mann-Whitney = 0.00 \t pvalue hypergeometric = 0.00\n",
      "hits_authorities: pvalue Mann-Whitney = 0.00 \t pvalue hypergeometric = 0.00\n",
      "pagerank: pvalue Mann-Whitney = 0.00 \t pvalue hypergeometric = 0.00\n",
      "log10-degree_undirected: pvalue Mann-Whitney = 0.00 \t pvalue hypergeometric = 0.00\n",
      "normalized-degree_undirected: pvalue Mann-Whitney = 0.00 \t pvalue hypergeometric = 0.00\n",
      "normalized-hits_hubs: pvalue Mann-Whitney = 0.00 \t pvalue hypergeometric = 0.00\n",
      "normalized-hits_authorities: pvalue Mann-Whitney = 0.00 \t pvalue hypergeometric = 0.00\n",
      "############\n",
      "\n",
      "Source = drugbank\n",
      "degree_undirected: pvalue Mann-Whitney = 0.00 \t pvalue hypergeometric = 0.00\n",
      "expecteddegree_undirected: pvalue Mann-Whitney = 0.00 \t pvalue hypergeometric = 0.00\n",
      "clusteringcoefficient: pvalue Mann-Whitney = 0.46 \t pvalue hypergeometric = 1.00\n",
      "closeness: pvalue Mann-Whitney = 0.00 \t pvalue hypergeometric = 0.00\n",
      "betweenness: pvalue Mann-Whitney = 0.00 \t pvalue hypergeometric = 0.00\n",
      "hits_hubs: pvalue Mann-Whitney = 0.00 \t pvalue hypergeometric = 0.00\n",
      "hits_authorities: pvalue Mann-Whitney = 0.00 \t pvalue hypergeometric = 0.00\n",
      "pagerank: pvalue Mann-Whitney = 0.00 \t pvalue hypergeometric = 0.00\n",
      "log10-degree_undirected: pvalue Mann-Whitney = 0.00 \t pvalue hypergeometric = 0.00\n",
      "normalized-degree_undirected: pvalue Mann-Whitney = 0.00 \t pvalue hypergeometric = 0.00\n",
      "normalized-hits_hubs: pvalue Mann-Whitney = 0.00 \t pvalue hypergeometric = 0.00\n",
      "normalized-hits_authorities: pvalue Mann-Whitney = 0.00 \t pvalue hypergeometric = 0.00\n",
      "############\n",
      "\n",
      "Source = mendelian\n",
      "degree_undirected: pvalue Mann-Whitney = 0.00 \t pvalue hypergeometric = 0.00\n",
      "expecteddegree_undirected: pvalue Mann-Whitney = 0.00 \t pvalue hypergeometric = 0.00\n",
      "clusteringcoefficient: pvalue Mann-Whitney = 0.36 \t pvalue hypergeometric = 1.00\n",
      "closeness: pvalue Mann-Whitney = 0.00 \t pvalue hypergeometric = 0.00\n",
      "betweenness: pvalue Mann-Whitney = 0.00 \t pvalue hypergeometric = 0.00\n",
      "hits_hubs: pvalue Mann-Whitney = 0.00 \t pvalue hypergeometric = 0.00\n",
      "hits_authorities: pvalue Mann-Whitney = 0.00 \t pvalue hypergeometric = 0.00\n",
      "pagerank: pvalue Mann-Whitney = 0.00 \t pvalue hypergeometric = 0.00\n",
      "log10-degree_undirected: pvalue Mann-Whitney = 0.00 \t pvalue hypergeometric = 0.00\n",
      "normalized-degree_undirected: pvalue Mann-Whitney = 0.00 \t pvalue hypergeometric = 0.00\n",
      "normalized-hits_hubs: pvalue Mann-Whitney = 0.00 \t pvalue hypergeometric = 0.00\n",
      "normalized-hits_authorities: pvalue Mann-Whitney = 0.00 \t pvalue hypergeometric = 0.00\n",
      "############\n",
      "\n",
      "Saving correlations/palues to output/pvalues\n"
     ]
    }
   ],
   "source": [
    "# This script contains everything the whole sequence of things to do\n",
    "# to get our results.\n",
    "\n",
    "import networkx as nx\n",
    "\n",
    "from read_graph import read_graph\n",
    "from common.pipeline import Pipeline\n",
    "from common.feature_generators import ExpectedDegree\n",
    "from common.feature_generators import ClusteringCoefficient\n",
    "from common.feature_generators import Degree\n",
    "from common.feature_generators import ClosenessCentrality\n",
    "from common.feature_generators import BetweennessCentrality\n",
    "from common.feature_generators import HITS\n",
    "from common.feature_generators import PageRank\n",
    "from common.feature_generators import Log10Wrapper\n",
    "from common.feature_generators import NormalizeWrapper\n",
    "from validation import compute_correlations\n",
    "\n",
    "# Loading PPI graph\n",
    "print(\"\\n######### Loading Graph #########\")\n",
    "Graph, node_names = read_graph(directed=False)\n",
    "print(\"Loaded graph:\\n\\t{} nodes\\n\\t{} edges\".format(\n",
    "    Graph.number_of_nodes(),\n",
    "    Graph.number_of_edges()\n",
    "))\n",
    "\n",
    "#########################\n",
    "# Computing node features\n",
    "#########################\n",
    "\n",
    "print(\"\\n######### Computing/retrieving node features #########\")\n",
    "\n",
    "# The pipeline object takes as an argument the sequence of features we want\n",
    "pipeline = Pipeline(Degree(default_dump=True, default_recomputing=False),\n",
    "                    ExpectedDegree(default_dump=True, default_recomputing=False), ClusteringCoefficient(),\n",
    "                    ClosenessCentrality(), BetweennessCentrality(), HITS(), PageRank(), Log10Wrapper(Degree())(),\n",
    "                    NormalizeWrapper(Degree())(),NormalizeWrapper(HITS())())\n",
    "features = pipeline.apply(Graph, verbose=True)\n",
    "\n",
    "#########################\n",
    "# Class prediction\n",
    "#########################\n",
    "\n",
    "\n",
    "\n",
    "#########################\n",
    "# Features Correlation\n",
    "#########################\n",
    "\n",
    "print(\"\\n######### Features Correlation #########\")\n",
    "\n",
    "pvalues = compute_correlations(features)\n",
    "\n",
    "# Perform gene set enrichment analysis (GSEA) on a variety of gene sets directories\n",
    "gene_sets_directories = [\n",
    "    u'Cancer_Cell_Line_Encyclopedia',\n",
    "    u'ChEA_2016',\n",
    "    u'DrugMatrix',\n",
    "    u'GeneSigDB',\n",
    "    u'KEGG_2016',\n",
    "    u'LINCS_L1000_Chem_Pert_down',\n",
    "    u'LINCS_L1000_Chem_Pert_up',\n",
    "    u'MSigDB_Computational',\n",
    "    u'MSigDB_Oncogenic_Signatures',\n",
    "    u'OMIM_Disease',\n",
    "    u'OMIM_Expanded',\n",
    "    u'PPI_Hub_Proteins',\n",
    "    u'Panther_2016',\n",
    "    u'Reactome_2016'\n",
    "]\n",
    "# enrichr = enrichr_validation(gene_query, gene_rank=None, outdir=\"validation_results\", gene_sets='KEGG_2016')\n",
    "# prerank = prerank_validation(gene_query, gene_rank, outdir=\"validation_results\", gene_sets='KEGG_2016')\n",
    "\n"
   ]
  },
  {
   "cell_type": "code",
   "execution_count": 2,
   "metadata": {},
   "outputs": [
    {
     "name": "stdout",
     "output_type": "stream",
     "text": [
      "tets\n"
     ]
    }
   ],
   "source": [
    "print (\"tets\")\n"
   ]
  },
  {
   "cell_type": "code",
   "execution_count": null,
   "metadata": {},
   "outputs": [
    {
     "name": "stdout",
     "output_type": "stream",
     "text": [
      "Computing correlations/pvalues for all features for different sources\n",
      "\n",
      "Source = cancer\n",
      "pvalue Mann-Whitney = 1.2e-70 \t pvalue hypergeometric = 9.6e-29 \t(degree_undirected)\n",
      "pvalue Mann-Whitney = 8.1e-77 \t pvalue hypergeometric = 9.5e-23 \t(expecteddegree_undirected)\n",
      "pvalue Mann-Whitney = 0.012 \t pvalue hypergeometric = 0.86 \t(clusteringcoefficient)\n",
      "pvalue Mann-Whitney = 1.8e-77 \t pvalue hypergeometric = 1.7e-27 \t(closeness)\n",
      "pvalue Mann-Whitney = 2.3e-69 \t pvalue hypergeometric = 1.7e-27 \t(betweenness)\n",
      "pvalue Mann-Whitney = 6e-84 \t pvalue hypergeometric = 2.8e-26 \t(hits_hubs)\n",
      "pvalue Mann-Whitney = 6e-84 \t pvalue hypergeometric = 2.8e-26 \t(hits_authorities)\n",
      "pvalue Mann-Whitney = 1.6e-75 \t pvalue hypergeometric = 1.3e-21 \t(pagerank)\n",
      "pvalue Mann-Whitney = 1.2e-70 \t pvalue hypergeometric = 9.6e-29 \t(log10-degree_undirected)\n",
      "pvalue Mann-Whitney = 1.2e-70 \t pvalue hypergeometric = 9.6e-29 \t(normalized-degree_undirected)\n",
      "pvalue Mann-Whitney = 6e-84 \t pvalue hypergeometric = 2.8e-26 \t(normalized-hits_hubs)\n",
      "pvalue Mann-Whitney = 6e-84 \t pvalue hypergeometric = 2.8e-26 \t(normalized-hits_authorities)\n",
      "############\n",
      "\n",
      "Source = drugbank\n"
     ]
    }
   ],
   "source": [
    "import pandas as pd\n",
    "import numpy as np\n",
    "from validation_import import get_ref_genes\n",
    "from validation import compare_feature_distribution_mannwhitney, compare_feature_distribution_hypergeom\n",
    "\n",
    "print (\"Computing correlations/pvalues for all features for different sources\\n\")\n",
    "feature_names = list(features.columns)\n",
    "pvalues = pd.DataFrame(data=np.zeros((6,len(feature_names))), index=[\"cancer_Mann–Whitney\", \"drugbank_Mann–Whitney\",\n",
    "                                                                     \"mendelian_Mann–Whitney\", \"cancer_hypergeom\",\n",
    "                                                                     \"drugbank_hypergeom\", \"mendelian_hypergeom\"],\n",
    "                       columns = feature_names)\n",
    "for source in ['cancer', 'drugbank', 'mendelian']:\n",
    "    print(\"Source = %s\"%source)\n",
    "    ref_genes = get_ref_genes(source=source)\n",
    "    for feature_name in feature_names:\n",
    "        pvalue_MW = compare_feature_distribution_mannwhitney(features, feature_name, ref_genes, 'output/' + feature_name +\n",
    "                                                             '_distribution_comparison_{}.png'.format(source),\n",
    "                                                             title=\"{},{}\".format(feature_name, source))\n",
    "        pvalue_hypergeom = compare_feature_distribution_hypergeom(features, feature_name, ref_genes)\n",
    "        pvalues.loc[\"%s_Mann–Whitney\"%source:,feature_name] = pvalue_MW\n",
    "        pvalues.loc[\"%s_hypergeom\"%source:,feature_name] = pvalue_hypergeom\n",
    "        print (\"pvalue Mann-Whitney = %.2g \\t pvalue hypergeometric = %.2g \\t(%s)\"%(pvalue_MW, pvalue_hypergeom, feature_name))\n",
    "    print(\"############\\n\")\n",
    "print (\"Saving correlations/palues to output/pvalues\")\n",
    "pvalues.to_pickle(\"output/pvalues\")"
   ]
  },
  {
   "cell_type": "code",
   "execution_count": null,
   "metadata": {
    "collapsed": true
   },
   "outputs": [],
   "source": []
  }
 ],
 "metadata": {
  "kernelspec": {
   "display_name": "Python 3",
   "language": "python",
   "name": "python3"
  },
  "language_info": {
   "codemirror_mode": {
    "name": "ipython",
    "version": 3
   },
   "file_extension": ".py",
   "mimetype": "text/x-python",
   "name": "python",
   "nbconvert_exporter": "python",
   "pygments_lexer": "ipython3",
   "version": "3.6.3"
  }
 },
 "nbformat": 4,
 "nbformat_minor": 2
}
