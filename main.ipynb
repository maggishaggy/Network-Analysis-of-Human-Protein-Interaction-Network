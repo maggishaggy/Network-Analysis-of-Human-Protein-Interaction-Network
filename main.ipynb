{
 "cells": [
  {
   "cell_type": "code",
   "execution_count": 1,
   "metadata": {
    "collapsed": true
   },
   "outputs": [],
   "source": [
    "import networkx as nx\n",
    "import sys\n",
    "\n",
    "\n",
    "def usage():\n",
    "    print(\"{} [graph_file]\".format(sys.argv[0]))\n",
    "\n",
    "\n",
    "if __name__=='__main__':\n",
    "    if len(sys.argv) != 2:\n",
    "        usage()\n",
    "        sys.exit(1)\n",
    "    file_name = sys.argv[1]\n",
    "    print(\"loading graph...\")\n",
    "    Graph = nx.read_pajek(file_name)\n",
    "    print(\"graph loaded\\n\\t{} nodes\\n\\t{} edges\".format(\n",
    "        Graph.number_of_nodes(),\n",
    "        Graph.number_of_edges()\n",
    "        ))\n"
   ]
  },
  {
   "cell_type": "code",
   "execution_count": null,
   "metadata": {
    "collapsed": true
   },
   "outputs": [],
   "source": []
  }
 ],
 "metadata": {
  "kernelspec": {
   "display_name": "Python 2",
   "language": "python",
   "name": "python2"
  },
  "language_info": {
   "codemirror_mode": {
    "name": "ipython",
    "version": 2
   },
   "file_extension": ".py",
   "mimetype": "text/x-python",
   "name": "python",
   "nbconvert_exporter": "python",
   "pygments_lexer": "ipython2",
   "version": "2.7.14"
  }
 },
 "nbformat": 4,
 "nbformat_minor": 2
}
